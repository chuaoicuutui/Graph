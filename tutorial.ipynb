{
 "cells": [
  {
   "cell_type": "code",
   "execution_count": 1,
   "metadata": {},
   "outputs": [],
   "source": [
    "from graph import Graph"
   ]
  },
  {
   "cell_type": "code",
   "execution_count": 2,
   "metadata": {},
   "outputs": [
    {
     "name": "stdout",
     "output_type": "stream",
     "text": [
      "Graph(\n",
      "\t2:(3, 5)\n",
      "\t3:(5)\n",
      "\t5:()\n",
      ")\n"
     ]
    }
   ],
   "source": [
    "graph = Graph()\n",
    "graph.add_node(2)\n",
    "graph.add_nodes([3, 5])\n",
    "graph.add_edge(2, 3)\n",
    "graph.add_edges([(2, 5), (3, 5)])\n",
    "print(graph)"
   ]
  },
  {
   "cell_type": "code",
   "execution_count": 3,
   "metadata": {},
   "outputs": [
    {
     "name": "stdout",
     "output_type": "stream",
     "text": [
      "Graph(\n",
      "\t0:(5, 1)\n",
      "\t1:(2)\n",
      "\t2:(3)\n",
      "\t3:(5, 4)\n",
      "\t4:(0)\n",
      "\t5:(2, 4)\n",
      ")\n"
     ]
    }
   ],
   "source": [
    "graph = Graph.from_txt(\"test/directed.txt\")\n",
    "print(graph)"
   ]
  },
  {
   "cell_type": "code",
   "execution_count": 4,
   "metadata": {},
   "outputs": [
    {
     "data": {
      "text/plain": [
       "[('0', '5'),\n",
       " ('0', '1'),\n",
       " ('1', '2'),\n",
       " ('2', '3'),\n",
       " ('3', '5'),\n",
       " ('3', '4'),\n",
       " ('4', '0'),\n",
       " ('5', '2'),\n",
       " ('5', '4')]"
      ]
     },
     "execution_count": 4,
     "metadata": {},
     "output_type": "execute_result"
    }
   ],
   "source": [
    "graph.edges"
   ]
  },
  {
   "cell_type": "code",
   "execution_count": 5,
   "metadata": {},
   "outputs": [
    {
     "name": "stdout",
     "output_type": "stream",
     "text": [
      "Graph(\n",
      "\tFOOD:(GOOD, FOOT, FOOL)\n",
      "\tFOOT:(FOOD, FORT)\n",
      "\tFORT:(FOOT)\n",
      "\tGOOD:(FOOD)\n",
      "\tFOOL:(FOOD, POOL)\n",
      "\tPOOL:(POLL, FOOL)\n",
      "\tPOLL:(POOL, POLE)\n",
      "\tPOLE:(POLL, PALE)\n",
      "\tPALE:(SAGE, SALE, POLE, PALM)\n",
      "\tPALM:(PALE)\n",
      "\tSALE:(PALE)\n",
      "\tSAGE:(PALE, SALT)\n",
      "\tSALT:(SAGE)\n",
      ")\n"
     ]
    }
   ],
   "source": [
    "graph = Graph.from_txt(\"test/word_transform.txt\")\n",
    "print(graph)"
   ]
  },
  {
   "cell_type": "code",
   "execution_count": 6,
   "metadata": {},
   "outputs": [
    {
     "data": {
      "text/plain": [
       "['FOOD',\n",
       " 'FOOL',\n",
       " 'FOOT',\n",
       " 'FORT',\n",
       " 'GOOD',\n",
       " 'PALE',\n",
       " 'PALM',\n",
       " 'POLE',\n",
       " 'POLL',\n",
       " 'POOL',\n",
       " 'SAGE',\n",
       " 'SALE',\n",
       " 'SALT']"
      ]
     },
     "execution_count": 6,
     "metadata": {},
     "output_type": "execute_result"
    }
   ],
   "source": [
    "graph.nodes"
   ]
  },
  {
   "cell_type": "code",
   "execution_count": null,
   "metadata": {},
   "outputs": [],
   "source": []
  }
 ],
 "metadata": {
  "kernelspec": {
   "display_name": "Python 3.10.6 64-bit",
   "language": "python",
   "name": "python3"
  },
  "language_info": {
   "codemirror_mode": {
    "name": "ipython",
    "version": 3
   },
   "file_extension": ".py",
   "mimetype": "text/x-python",
   "name": "python",
   "nbconvert_exporter": "python",
   "pygments_lexer": "ipython3",
   "version": "3.10.6"
  },
  "orig_nbformat": 4,
  "vscode": {
   "interpreter": {
    "hash": "916dbcbb3f70747c44a77c7bcd40155683ae19c65e1c03b4aa3499c5328201f1"
   }
  }
 },
 "nbformat": 4,
 "nbformat_minor": 2
}
